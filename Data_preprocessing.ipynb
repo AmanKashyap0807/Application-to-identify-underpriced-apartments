{
 "cells": [
  {
   "cell_type": "code",
   "execution_count": 1,
   "metadata": {},
   "outputs": [],
   "source": [
    "import pandas as pd"
   ]
  },
  {
   "cell_type": "code",
   "execution_count": 72,
   "metadata": {},
   "outputs": [],
   "source": [
    "df = pd.read_csv('D://Python Machine lerning blueprint_Projects//Finding_Underpriced_Apartment//extracted_data')"
   ]
  },
  {
   "cell_type": "code",
   "execution_count": 73,
   "metadata": {},
   "outputs": [
    {
     "data": {
      "text/plain": [
       "Index(['Unnamed: 0', 'url', 'address', 'neibhourehood', 'rent', 'no_of_beds',\n",
       "       'no_of_bathrooms'],\n",
       "      dtype='object')"
      ]
     },
     "execution_count": 73,
     "metadata": {},
     "output_type": "execute_result"
    }
   ],
   "source": [
    "df.columns"
   ]
  },
  {
   "cell_type": "markdown",
   "metadata": {},
   "source": [
    "## Removing Index"
   ]
  },
  {
   "cell_type": "code",
   "execution_count": 74,
   "metadata": {},
   "outputs": [
    {
     "data": {
      "text/html": [
       "<div>\n",
       "<style scoped>\n",
       "    .dataframe tbody tr th:only-of-type {\n",
       "        vertical-align: middle;\n",
       "    }\n",
       "\n",
       "    .dataframe tbody tr th {\n",
       "        vertical-align: top;\n",
       "    }\n",
       "\n",
       "    .dataframe thead th {\n",
       "        text-align: right;\n",
       "    }\n",
       "</style>\n",
       "<table border=\"1\" class=\"dataframe\">\n",
       "  <thead>\n",
       "    <tr style=\"text-align: right;\">\n",
       "      <th></th>\n",
       "      <th>url</th>\n",
       "      <th>address</th>\n",
       "      <th>neibhourehood</th>\n",
       "      <th>rent</th>\n",
       "      <th>no_of_beds</th>\n",
       "      <th>no_of_bathrooms</th>\n",
       "    </tr>\n",
       "  </thead>\n",
       "  <tbody>\n",
       "    <tr>\n",
       "      <th>0</th>\n",
       "      <td>https://www.renthop.com/listings/201-stanton-s...</td>\n",
       "      <td>201StantonStreet</td>\n",
       "      <td>LowerEastSide,DowntownManhattan,Manhattan</td>\n",
       "      <td>5295</td>\n",
       "      <td>2</td>\n",
       "      <td>1</td>\n",
       "    </tr>\n",
       "    <tr>\n",
       "      <th>1</th>\n",
       "      <td>https://www.renthop.com/listings/bedford-ave-m...</td>\n",
       "      <td>1655BedfordAvenue,Apt2B</td>\n",
       "      <td>CrownHeights,CentralBrooklyn,Brooklyn</td>\n",
       "      <td>3800</td>\n",
       "      <td>2\\n            / Flex 3</td>\n",
       "      <td>1</td>\n",
       "    </tr>\n",
       "    <tr>\n",
       "      <th>2</th>\n",
       "      <td>https://www.renthop.com/listings/95-wall-stree...</td>\n",
       "      <td>95WallStreet,Apt1001</td>\n",
       "      <td>FinancialDistrict,DowntownManhattan,Manhattan</td>\n",
       "      <td>3914</td>\n",
       "      <td>Studio</td>\n",
       "      <td>1</td>\n",
       "    </tr>\n",
       "    <tr>\n",
       "      <th>3</th>\n",
       "      <td>https://www.renthop.com/listings/775-columbus-...</td>\n",
       "      <td>775ColumbusAvenue,Apt07A</td>\n",
       "      <td>ManhattanValley,UpperWestSide,UpperManhattan,M...</td>\n",
       "      <td>4820</td>\n",
       "      <td>1</td>\n",
       "      <td>1</td>\n",
       "    </tr>\n",
       "    <tr>\n",
       "      <th>4</th>\n",
       "      <td>https://www.renthop.com/listings/10-hanover-sq...</td>\n",
       "      <td>10HanoverSquare,Apt04R</td>\n",
       "      <td>FinancialDistrict,DowntownManhattan,Manhattan</td>\n",
       "      <td>3965</td>\n",
       "      <td>Studio</td>\n",
       "      <td>1</td>\n",
       "    </tr>\n",
       "    <tr>\n",
       "      <th>...</th>\n",
       "      <td>...</td>\n",
       "      <td>...</td>\n",
       "      <td>...</td>\n",
       "      <td>...</td>\n",
       "      <td>...</td>\n",
       "      <td>...</td>\n",
       "    </tr>\n",
       "    <tr>\n",
       "      <th>16799</th>\n",
       "      <td>https://www.renthop.com/listings/232-e-54th-st...</td>\n",
       "      <td>232E54thSt,Apt6D</td>\n",
       "      <td>MidtownEast,MidtownManhattan,Manhattan</td>\n",
       "      <td>4018</td>\n",
       "      <td>Studio</td>\n",
       "      <td>1</td>\n",
       "    </tr>\n",
       "    <tr>\n",
       "      <th>16800</th>\n",
       "      <td>https://www.renthop.com/listings/148-west-68th...</td>\n",
       "      <td>148West68thStreet</td>\n",
       "      <td>LincolnSquare,UpperWestSide,UpperManhattan,Man...</td>\n",
       "      <td>2650</td>\n",
       "      <td>Studio</td>\n",
       "      <td>1</td>\n",
       "    </tr>\n",
       "    <tr>\n",
       "      <th>16801</th>\n",
       "      <td>https://www.renthop.com/listings/37-wall-stree...</td>\n",
       "      <td>37WallStreet,Apt8M</td>\n",
       "      <td>FinancialDistrict,DowntownManhattan,Manhattan</td>\n",
       "      <td>3700</td>\n",
       "      <td>1</td>\n",
       "      <td>1</td>\n",
       "    </tr>\n",
       "    <tr>\n",
       "      <th>16802</th>\n",
       "      <td>https://www.renthop.com/listings/east-78th-str...</td>\n",
       "      <td>East78thStreet</td>\n",
       "      <td>UpperEastSide,UpperManhattan,Manhattan</td>\n",
       "      <td>2695</td>\n",
       "      <td>Studio</td>\n",
       "      <td>1</td>\n",
       "    </tr>\n",
       "    <tr>\n",
       "      <th>16803</th>\n",
       "      <td>https://www.renthop.com/listings/e-92nd-st-2nd...</td>\n",
       "      <td>E92ndSt&amp;2ndAve</td>\n",
       "      <td>Yorkville,UpperEastSide,UpperManhattan,Manhattan</td>\n",
       "      <td>2750</td>\n",
       "      <td>Studio</td>\n",
       "      <td>1</td>\n",
       "    </tr>\n",
       "  </tbody>\n",
       "</table>\n",
       "<p>16804 rows × 6 columns</p>\n",
       "</div>"
      ],
      "text/plain": [
       "                                                     url  \\\n",
       "0      https://www.renthop.com/listings/201-stanton-s...   \n",
       "1      https://www.renthop.com/listings/bedford-ave-m...   \n",
       "2      https://www.renthop.com/listings/95-wall-stree...   \n",
       "3      https://www.renthop.com/listings/775-columbus-...   \n",
       "4      https://www.renthop.com/listings/10-hanover-sq...   \n",
       "...                                                  ...   \n",
       "16799  https://www.renthop.com/listings/232-e-54th-st...   \n",
       "16800  https://www.renthop.com/listings/148-west-68th...   \n",
       "16801  https://www.renthop.com/listings/37-wall-stree...   \n",
       "16802  https://www.renthop.com/listings/east-78th-str...   \n",
       "16803  https://www.renthop.com/listings/e-92nd-st-2nd...   \n",
       "\n",
       "                        address  \\\n",
       "0              201StantonStreet   \n",
       "1       1655BedfordAvenue,Apt2B   \n",
       "2          95WallStreet,Apt1001   \n",
       "3      775ColumbusAvenue,Apt07A   \n",
       "4        10HanoverSquare,Apt04R   \n",
       "...                         ...   \n",
       "16799          232E54thSt,Apt6D   \n",
       "16800         148West68thStreet   \n",
       "16801        37WallStreet,Apt8M   \n",
       "16802            East78thStreet   \n",
       "16803            E92ndSt&2ndAve   \n",
       "\n",
       "                                           neibhourehood  rent  \\\n",
       "0              LowerEastSide,DowntownManhattan,Manhattan  5295   \n",
       "1                  CrownHeights,CentralBrooklyn,Brooklyn  3800   \n",
       "2          FinancialDistrict,DowntownManhattan,Manhattan  3914   \n",
       "3      ManhattanValley,UpperWestSide,UpperManhattan,M...  4820   \n",
       "4          FinancialDistrict,DowntownManhattan,Manhattan  3965   \n",
       "...                                                  ...   ...   \n",
       "16799             MidtownEast,MidtownManhattan,Manhattan  4018   \n",
       "16800  LincolnSquare,UpperWestSide,UpperManhattan,Man...  2650   \n",
       "16801      FinancialDistrict,DowntownManhattan,Manhattan  3700   \n",
       "16802             UpperEastSide,UpperManhattan,Manhattan  2695   \n",
       "16803   Yorkville,UpperEastSide,UpperManhattan,Manhattan  2750   \n",
       "\n",
       "                    no_of_beds no_of_bathrooms  \n",
       "0                            2               1  \n",
       "1      2\\n            / Flex 3               1  \n",
       "2                       Studio               1  \n",
       "3                            1               1  \n",
       "4                       Studio               1  \n",
       "...                        ...             ...  \n",
       "16799                   Studio               1  \n",
       "16800                   Studio               1  \n",
       "16801                        1               1  \n",
       "16802                   Studio               1  \n",
       "16803                   Studio               1  \n",
       "\n",
       "[16804 rows x 6 columns]"
      ]
     },
     "execution_count": 74,
     "metadata": {},
     "output_type": "execute_result"
    }
   ],
   "source": [
    "df = df.drop(df.columns[0], axis=1)\n",
    "df"
   ]
  },
  {
   "cell_type": "markdown",
   "metadata": {},
   "source": [
    "# Filtering integer values from the column  \n",
    "the scraped data still contains some another symboll and spaces so here we are filtering that and extracting integers"
   ]
  },
  {
   "cell_type": "code",
   "execution_count": 75,
   "metadata": {},
   "outputs": [
    {
     "data": {
      "text/plain": [
       "array(['2', '2\\n            / Flex 3', 'Studio', '1', '3',\n",
       "       '1\\n            / Flex 2', '1\\n            / Flex 3', '4',\n",
       "       'Studio\\n            / Flex 1', '3\\n            / Flex 4',\n",
       "       'Studio\\n            / Flex 2', 'Private Room',\n",
       "       '3\\n            / Flex 5', '5', '8', '6',\n",
       "       '2\\n            / Flex 4', '7', '4\\n            / Flex 5', '9',\n",
       "       '5\\n            / Flex 6'], dtype=object)"
      ]
     },
     "execution_count": 75,
     "metadata": {},
     "output_type": "execute_result"
    }
   ],
   "source": [
    "df['no_of_beds'].unique()"
   ]
  },
  {
   "cell_type": "code",
   "execution_count": 1,
   "metadata": {},
   "outputs": [],
   "source": [
    "import numpy as np\n",
    "import re"
   ]
  },
  {
   "cell_type": "code",
   "execution_count": 77,
   "metadata": {},
   "outputs": [],
   "source": [
    "def extract_integer(value):\n",
    "    if isinstance(value,str):\n",
    "        match = re.search(r'\\d+',value)\n",
    "        return int(match.group(0)) if match else 0\n",
    "    return 0\n",
    "\n",
    "# The apply() function is a powerful tool for applying a function to each element along a specified axis of a \n",
    "# Pandas DataFrame or Series. It allows you to perform custom operations on your data, going beyond \n",
    "# the standard built-in functions."
   ]
  },
  {
   "cell_type": "code",
   "execution_count": 78,
   "metadata": {},
   "outputs": [
    {
     "data": {
      "text/plain": [
       "0        2\n",
       "1        2\n",
       "2        0\n",
       "3        1\n",
       "4        0\n",
       "        ..\n",
       "16799    0\n",
       "16800    0\n",
       "16801    1\n",
       "16802    0\n",
       "16803    0\n",
       "Name: no_of_beds, Length: 16804, dtype: int64"
      ]
     },
     "execution_count": 78,
     "metadata": {},
     "output_type": "execute_result"
    }
   ],
   "source": [
    "df['no_of_beds']=df['no_of_beds'].apply(extract_integer)\n",
    "df['no_of_beds']"
   ]
  },
  {
   "cell_type": "code",
   "execution_count": 79,
   "metadata": {},
   "outputs": [
    {
     "data": {
      "text/plain": [
       "0"
      ]
     },
     "execution_count": 79,
     "metadata": {},
     "output_type": "execute_result"
    }
   ],
   "source": [
    "# checking that the scraped data from the website is satisfying or not\n",
    "\n",
    "# nan_count = df['no_of_beds'].isna().sum()\n",
    "# nan_count\n",
    "\n",
    "# .isna(): This method is called on the Series. It returns a new Series of boolean values with the same index \n",
    "# as df['your_column']. For each element, it returns True if the value is NaN and False otherwise.\n",
    "\n",
    "# .sum(): This method is called on the boolean Series produced by .isna(). It treats True as 1 and False as 0. \n",
    "# When summed, it will give you the total count of True values, which is the same as the total count of NaN values."
   ]
  },
  {
   "cell_type": "markdown",
   "metadata": {},
   "source": [
    "Dropping rows with NaN values "
   ]
  },
  {
   "cell_type": "code",
   "execution_count": 67,
   "metadata": {},
   "outputs": [],
   "source": [
    "# df = df.dropna(subset=['no_of_beds'])\n",
    "# # \n",
    "# #df.dropna(): This is a Pandas DataFrame method that drops rows with missing values.\n",
    "# # subset=['your_column']: This specifies that the dropna operation should only consider the your_column.\n",
    "# # This is essential because you only want to drop rows where the your_column value is NaN, and leave the others untouched."
   ]
  },
  {
   "cell_type": "code",
   "execution_count": 80,
   "metadata": {},
   "outputs": [
    {
     "data": {
      "text/html": [
       "<div>\n",
       "<style scoped>\n",
       "    .dataframe tbody tr th:only-of-type {\n",
       "        vertical-align: middle;\n",
       "    }\n",
       "\n",
       "    .dataframe tbody tr th {\n",
       "        vertical-align: top;\n",
       "    }\n",
       "\n",
       "    .dataframe thead th {\n",
       "        text-align: right;\n",
       "    }\n",
       "</style>\n",
       "<table border=\"1\" class=\"dataframe\">\n",
       "  <thead>\n",
       "    <tr style=\"text-align: right;\">\n",
       "      <th></th>\n",
       "      <th>url</th>\n",
       "      <th>address</th>\n",
       "      <th>neibhourehood</th>\n",
       "      <th>rent</th>\n",
       "      <th>no_of_beds</th>\n",
       "      <th>no_of_bathrooms</th>\n",
       "    </tr>\n",
       "  </thead>\n",
       "  <tbody>\n",
       "    <tr>\n",
       "      <th>0</th>\n",
       "      <td>https://www.renthop.com/listings/201-stanton-s...</td>\n",
       "      <td>201StantonStreet</td>\n",
       "      <td>LowerEastSide,DowntownManhattan,Manhattan</td>\n",
       "      <td>5295</td>\n",
       "      <td>2</td>\n",
       "      <td>1</td>\n",
       "    </tr>\n",
       "    <tr>\n",
       "      <th>1</th>\n",
       "      <td>https://www.renthop.com/listings/bedford-ave-m...</td>\n",
       "      <td>1655BedfordAvenue,Apt2B</td>\n",
       "      <td>CrownHeights,CentralBrooklyn,Brooklyn</td>\n",
       "      <td>3800</td>\n",
       "      <td>2</td>\n",
       "      <td>1</td>\n",
       "    </tr>\n",
       "    <tr>\n",
       "      <th>2</th>\n",
       "      <td>https://www.renthop.com/listings/95-wall-stree...</td>\n",
       "      <td>95WallStreet,Apt1001</td>\n",
       "      <td>FinancialDistrict,DowntownManhattan,Manhattan</td>\n",
       "      <td>3914</td>\n",
       "      <td>0</td>\n",
       "      <td>1</td>\n",
       "    </tr>\n",
       "    <tr>\n",
       "      <th>3</th>\n",
       "      <td>https://www.renthop.com/listings/775-columbus-...</td>\n",
       "      <td>775ColumbusAvenue,Apt07A</td>\n",
       "      <td>ManhattanValley,UpperWestSide,UpperManhattan,M...</td>\n",
       "      <td>4820</td>\n",
       "      <td>1</td>\n",
       "      <td>1</td>\n",
       "    </tr>\n",
       "    <tr>\n",
       "      <th>4</th>\n",
       "      <td>https://www.renthop.com/listings/10-hanover-sq...</td>\n",
       "      <td>10HanoverSquare,Apt04R</td>\n",
       "      <td>FinancialDistrict,DowntownManhattan,Manhattan</td>\n",
       "      <td>3965</td>\n",
       "      <td>0</td>\n",
       "      <td>1</td>\n",
       "    </tr>\n",
       "    <tr>\n",
       "      <th>...</th>\n",
       "      <td>...</td>\n",
       "      <td>...</td>\n",
       "      <td>...</td>\n",
       "      <td>...</td>\n",
       "      <td>...</td>\n",
       "      <td>...</td>\n",
       "    </tr>\n",
       "    <tr>\n",
       "      <th>16799</th>\n",
       "      <td>https://www.renthop.com/listings/232-e-54th-st...</td>\n",
       "      <td>232E54thSt,Apt6D</td>\n",
       "      <td>MidtownEast,MidtownManhattan,Manhattan</td>\n",
       "      <td>4018</td>\n",
       "      <td>0</td>\n",
       "      <td>1</td>\n",
       "    </tr>\n",
       "    <tr>\n",
       "      <th>16800</th>\n",
       "      <td>https://www.renthop.com/listings/148-west-68th...</td>\n",
       "      <td>148West68thStreet</td>\n",
       "      <td>LincolnSquare,UpperWestSide,UpperManhattan,Man...</td>\n",
       "      <td>2650</td>\n",
       "      <td>0</td>\n",
       "      <td>1</td>\n",
       "    </tr>\n",
       "    <tr>\n",
       "      <th>16801</th>\n",
       "      <td>https://www.renthop.com/listings/37-wall-stree...</td>\n",
       "      <td>37WallStreet,Apt8M</td>\n",
       "      <td>FinancialDistrict,DowntownManhattan,Manhattan</td>\n",
       "      <td>3700</td>\n",
       "      <td>1</td>\n",
       "      <td>1</td>\n",
       "    </tr>\n",
       "    <tr>\n",
       "      <th>16802</th>\n",
       "      <td>https://www.renthop.com/listings/east-78th-str...</td>\n",
       "      <td>East78thStreet</td>\n",
       "      <td>UpperEastSide,UpperManhattan,Manhattan</td>\n",
       "      <td>2695</td>\n",
       "      <td>0</td>\n",
       "      <td>1</td>\n",
       "    </tr>\n",
       "    <tr>\n",
       "      <th>16803</th>\n",
       "      <td>https://www.renthop.com/listings/e-92nd-st-2nd...</td>\n",
       "      <td>E92ndSt&amp;2ndAve</td>\n",
       "      <td>Yorkville,UpperEastSide,UpperManhattan,Manhattan</td>\n",
       "      <td>2750</td>\n",
       "      <td>0</td>\n",
       "      <td>1</td>\n",
       "    </tr>\n",
       "  </tbody>\n",
       "</table>\n",
       "<p>16804 rows × 6 columns</p>\n",
       "</div>"
      ],
      "text/plain": [
       "                                                     url  \\\n",
       "0      https://www.renthop.com/listings/201-stanton-s...   \n",
       "1      https://www.renthop.com/listings/bedford-ave-m...   \n",
       "2      https://www.renthop.com/listings/95-wall-stree...   \n",
       "3      https://www.renthop.com/listings/775-columbus-...   \n",
       "4      https://www.renthop.com/listings/10-hanover-sq...   \n",
       "...                                                  ...   \n",
       "16799  https://www.renthop.com/listings/232-e-54th-st...   \n",
       "16800  https://www.renthop.com/listings/148-west-68th...   \n",
       "16801  https://www.renthop.com/listings/37-wall-stree...   \n",
       "16802  https://www.renthop.com/listings/east-78th-str...   \n",
       "16803  https://www.renthop.com/listings/e-92nd-st-2nd...   \n",
       "\n",
       "                        address  \\\n",
       "0              201StantonStreet   \n",
       "1       1655BedfordAvenue,Apt2B   \n",
       "2          95WallStreet,Apt1001   \n",
       "3      775ColumbusAvenue,Apt07A   \n",
       "4        10HanoverSquare,Apt04R   \n",
       "...                         ...   \n",
       "16799          232E54thSt,Apt6D   \n",
       "16800         148West68thStreet   \n",
       "16801        37WallStreet,Apt8M   \n",
       "16802            East78thStreet   \n",
       "16803            E92ndSt&2ndAve   \n",
       "\n",
       "                                           neibhourehood  rent  no_of_beds  \\\n",
       "0              LowerEastSide,DowntownManhattan,Manhattan  5295           2   \n",
       "1                  CrownHeights,CentralBrooklyn,Brooklyn  3800           2   \n",
       "2          FinancialDistrict,DowntownManhattan,Manhattan  3914           0   \n",
       "3      ManhattanValley,UpperWestSide,UpperManhattan,M...  4820           1   \n",
       "4          FinancialDistrict,DowntownManhattan,Manhattan  3965           0   \n",
       "...                                                  ...   ...         ...   \n",
       "16799             MidtownEast,MidtownManhattan,Manhattan  4018           0   \n",
       "16800  LincolnSquare,UpperWestSide,UpperManhattan,Man...  2650           0   \n",
       "16801      FinancialDistrict,DowntownManhattan,Manhattan  3700           1   \n",
       "16802             UpperEastSide,UpperManhattan,Manhattan  2695           0   \n",
       "16803   Yorkville,UpperEastSide,UpperManhattan,Manhattan  2750           0   \n",
       "\n",
       "      no_of_bathrooms  \n",
       "0                   1  \n",
       "1                   1  \n",
       "2                   1  \n",
       "3                   1  \n",
       "4                   1  \n",
       "...               ...  \n",
       "16799               1  \n",
       "16800               1  \n",
       "16801               1  \n",
       "16802               1  \n",
       "16803               1  \n",
       "\n",
       "[16804 rows x 6 columns]"
      ]
     },
     "execution_count": 80,
     "metadata": {},
     "output_type": "execute_result"
    }
   ],
   "source": [
    "df"
   ]
  },
  {
   "cell_type": "markdown",
   "metadata": {},
   "source": [
    "Fintering Data on Bathrooms columns"
   ]
  },
  {
   "cell_type": "code",
   "execution_count": 81,
   "metadata": {},
   "outputs": [
    {
     "data": {
      "text/plain": [
       "array(['1', '2', '1.5', '2.5', '3', '3.5', 'Shared', '5', '4.5', '0.5',\n",
       "       '5.5', '4'], dtype=object)"
      ]
     },
     "execution_count": 81,
     "metadata": {},
     "output_type": "execute_result"
    }
   ],
   "source": [
    "df['no_of_bathrooms'].unique()"
   ]
  },
  {
   "cell_type": "code",
   "execution_count": 85,
   "metadata": {},
   "outputs": [
    {
     "data": {
      "text/plain": [
       "0        1.0\n",
       "1        1.0\n",
       "2        1.0\n",
       "3        1.0\n",
       "4        1.0\n",
       "        ... \n",
       "16799    1.0\n",
       "16800    1.0\n",
       "16801    1.0\n",
       "16802    1.0\n",
       "16803    1.0\n",
       "Name: no_of_bathrooms, Length: 16804, dtype: float64"
      ]
     },
     "execution_count": 85,
     "metadata": {},
     "output_type": "execute_result"
    }
   ],
   "source": [
    "df['no_of_bathrooms']=pd.to_numeric(df['no_of_bathrooms'], errors='coerce')\n",
    "\n",
    "df['no_of_bathrooms'] = df['no_of_bathrooms'].astype('float')\n",
    "df['no_of_bathrooms']\n",
    "\n",
    "# If your column contains string values that you want to convert to float, you should first convert to numeric using\n",
    "# pd.to_numeric and handle values that cannot be converted to numeric."
   ]
  },
  {
   "cell_type": "code",
   "execution_count": 88,
   "metadata": {},
   "outputs": [
    {
     "data": {
      "text/plain": [
       "url                 object\n",
       "address             object\n",
       "neibhourehood       object\n",
       "rent                 int64\n",
       "no_of_beds           int64\n",
       "no_of_bathrooms    float64\n",
       "dtype: object"
      ]
     },
     "execution_count": 88,
     "metadata": {},
     "output_type": "execute_result"
    }
   ],
   "source": [
    "df.dtypes"
   ]
  },
  {
   "cell_type": "markdown",
   "metadata": {},
   "source": []
  },
  {
   "cell_type": "code",
   "execution_count": 95,
   "metadata": {},
   "outputs": [
    {
     "data": {
      "text/plain": [
       "247"
      ]
     },
     "execution_count": 95,
     "metadata": {},
     "output_type": "execute_result"
    }
   ],
   "source": [
    "len(df['neibhourehood'].unique())"
   ]
  },
  {
   "cell_type": "code",
   "execution_count": 105,
   "metadata": {},
   "outputs": [
    {
     "data": {
      "text/html": [
       "<div>\n",
       "<style scoped>\n",
       "    .dataframe tbody tr th:only-of-type {\n",
       "        vertical-align: middle;\n",
       "    }\n",
       "\n",
       "    .dataframe tbody tr th {\n",
       "        vertical-align: top;\n",
       "    }\n",
       "\n",
       "    .dataframe thead th {\n",
       "        text-align: right;\n",
       "    }\n",
       "</style>\n",
       "<table border=\"1\" class=\"dataframe\">\n",
       "  <thead>\n",
       "    <tr style=\"text-align: right;\">\n",
       "      <th></th>\n",
       "      <th>counts</th>\n",
       "    </tr>\n",
       "    <tr>\n",
       "      <th>neibhourehood</th>\n",
       "      <th></th>\n",
       "    </tr>\n",
       "  </thead>\n",
       "  <tbody>\n",
       "    <tr>\n",
       "      <th>FinancialDistrict,DowntownManhattan,Manhattan</th>\n",
       "      <td>1103</td>\n",
       "    </tr>\n",
       "    <tr>\n",
       "      <th>MurrayHill,MidtownManhattan,Manhattan</th>\n",
       "      <td>937</td>\n",
       "    </tr>\n",
       "    <tr>\n",
       "      <th>Yorkville,UpperEastSide,UpperManhattan,Manhattan</th>\n",
       "      <td>820</td>\n",
       "    </tr>\n",
       "    <tr>\n",
       "      <th>Hell'sKitchen,MidtownManhattan,Manhattan</th>\n",
       "      <td>790</td>\n",
       "    </tr>\n",
       "    <tr>\n",
       "      <th>UpperEastSide,UpperManhattan,Manhattan</th>\n",
       "      <td>698</td>\n",
       "    </tr>\n",
       "    <tr>\n",
       "      <th>...</th>\n",
       "      <td>...</td>\n",
       "    </tr>\n",
       "    <tr>\n",
       "      <th>SpringfieldGardens,SoutheasternQueens,Queens</th>\n",
       "      <td>1</td>\n",
       "    </tr>\n",
       "    <tr>\n",
       "      <th>CambriaHeights,SoutheasternQueens,Queens</th>\n",
       "      <td>1</td>\n",
       "    </tr>\n",
       "    <tr>\n",
       "      <th>HuntsPoint,WestBronx,Bronx</th>\n",
       "      <td>1</td>\n",
       "    </tr>\n",
       "    <tr>\n",
       "      <th>Beechhurst,Whitestone,NortheasternQueens,Queens</th>\n",
       "      <td>1</td>\n",
       "    </tr>\n",
       "    <tr>\n",
       "      <th>MillBasin,SoutheasternBrooklyn,Brooklyn</th>\n",
       "      <td>1</td>\n",
       "    </tr>\n",
       "  </tbody>\n",
       "</table>\n",
       "<p>247 rows × 1 columns</p>\n",
       "</div>"
      ],
      "text/plain": [
       "                                                  counts\n",
       "neibhourehood                                           \n",
       "FinancialDistrict,DowntownManhattan,Manhattan       1103\n",
       "MurrayHill,MidtownManhattan,Manhattan                937\n",
       "Yorkville,UpperEastSide,UpperManhattan,Manhattan     820\n",
       "Hell'sKitchen,MidtownManhattan,Manhattan             790\n",
       "UpperEastSide,UpperManhattan,Manhattan               698\n",
       "...                                                  ...\n",
       "SpringfieldGardens,SoutheasternQueens,Queens           1\n",
       "CambriaHeights,SoutheasternQueens,Queens               1\n",
       "HuntsPoint,WestBronx,Bronx                             1\n",
       "Beechhurst,Whitestone,NortheasternQueens,Queens        1\n",
       "MillBasin,SoutheasternBrooklyn,Brooklyn                1\n",
       "\n",
       "[247 rows x 1 columns]"
      ]
     },
     "execution_count": 105,
     "metadata": {},
     "output_type": "execute_result"
    }
   ],
   "source": [
    "df.groupby('neibhourehood')['rent'].count().to_frame('counts').sort_values(by='counts', ascending=False)"
   ]
  },
  {
   "cell_type": "markdown",
   "metadata": {},
   "source": [
    "For Above\n",
    "**df.groupby('neighborhood'):**\n",
    "This is the first step and uses the groupby() method on the DataFrame df.\n",
    "\n",
    "It groups the rows of the DataFrame based on the unique values in the column named 'neighborhood'.\n",
    "\n",
    "The result of this operation is a GroupBy object, which is an intermediate representation that allows you to apply aggregate functions to each group.\n",
    "\n",
    "**['rent']:**\n",
    "This step selects the column named 'rent' from the GroupBy object.\n",
    "\n",
    "It specifies that you are interested in performing an operation on the 'rent' column within each group defined by 'neighborhood'.\n",
    "\n",
    "The result is an object that has the rent column of each grouped neighborhood\n",
    "\n",
    "**.count():**\n",
    "\n",
    "This is an aggregation method that is applied to the 'rent' column within each group.\n",
    "\n",
    "It calculates the number of non-NaN values in the 'rent' column for each group. In other words, it counts how many entries with valid 'rent' values are present for each 'neighborhood'.\n",
    "\n",
    "The result is a Pandas Series where the index are the names of the neighborhoods and the values are how many valid entries exist in the rent column for each neighborhood.\n",
    "\n",
    "**.to_frame('count'):**\n",
    "\n",
    "This method converts the resulting Pandas Series into a DataFrame.\n",
    "\n",
    "It also assigns the name 'count' to the newly created column that contains the counts.\n",
    "\n",
    "The result is a Pandas DataFrame with two columns: 'neighborhood' (which becomes an index now) and 'count' (the calculated counts).\n",
    "\n",
    "**.sort_values(by='count', ascending=False):**\n",
    "\n",
    "This method sorts the DataFrame based on the values in the 'count' column.\n",
    "\n",
    "by='count' indicates that the sorting should be based on the 'count' column.\n",
    "\n",
    "ascending=False means that the DataFrame should be sorted in descending order (highest counts at the top).\n",
    "\n",
    "The result is a Pandas Dataframe with the neighborhoods and the counts, sorted by the counts"
   ]
  },
  {
   "cell_type": "code",
   "execution_count": 108,
   "metadata": {},
   "outputs": [
    {
     "data": {
      "text/html": [
       "<div>\n",
       "<style scoped>\n",
       "    .dataframe tbody tr th:only-of-type {\n",
       "        vertical-align: middle;\n",
       "    }\n",
       "\n",
       "    .dataframe tbody tr th {\n",
       "        vertical-align: top;\n",
       "    }\n",
       "\n",
       "    .dataframe thead th {\n",
       "        text-align: right;\n",
       "    }\n",
       "</style>\n",
       "<table border=\"1\" class=\"dataframe\">\n",
       "  <thead>\n",
       "    <tr style=\"text-align: right;\">\n",
       "      <th></th>\n",
       "      <th>average rent for a apartment by place</th>\n",
       "    </tr>\n",
       "    <tr>\n",
       "      <th>neibhourehood</th>\n",
       "      <th></th>\n",
       "    </tr>\n",
       "  </thead>\n",
       "  <tbody>\n",
       "    <tr>\n",
       "      <th>SoHo,DowntownManhattan,Manhattan</th>\n",
       "      <td>14363.661017</td>\n",
       "    </tr>\n",
       "    <tr>\n",
       "      <th>Tribeca,DowntownManhattan,Manhattan</th>\n",
       "      <td>13039.714286</td>\n",
       "    </tr>\n",
       "    <tr>\n",
       "      <th>BrooklynHeights,NorthwesternBrooklyn,Brooklyn</th>\n",
       "      <td>11776.320755</td>\n",
       "    </tr>\n",
       "    <tr>\n",
       "      <th>DowntownFlushing,Flushing,NortheasternQueens,Queens</th>\n",
       "      <td>11571.428571</td>\n",
       "    </tr>\n",
       "    <tr>\n",
       "      <th>Midtown,MidtownManhattan,Manhattan</th>\n",
       "      <td>11511.693182</td>\n",
       "    </tr>\n",
       "    <tr>\n",
       "      <th>...</th>\n",
       "      <td>...</td>\n",
       "    </tr>\n",
       "    <tr>\n",
       "      <th>OceanParkway,Midwood,CentralBrooklyn,Brooklyn</th>\n",
       "      <td>2100.000000</td>\n",
       "    </tr>\n",
       "    <tr>\n",
       "      <th>GlenOaksVillageSection2,GlenOaks,NortheasternQueens,Queens</th>\n",
       "      <td>2050.000000</td>\n",
       "    </tr>\n",
       "    <tr>\n",
       "      <th>SunsetPark,SouthBrooklyn,Brooklyn</th>\n",
       "      <td>1925.000000</td>\n",
       "    </tr>\n",
       "    <tr>\n",
       "      <th>JamaicaHills,SoutheasternQueens,Queens</th>\n",
       "      <td>1700.000000</td>\n",
       "    </tr>\n",
       "    <tr>\n",
       "      <th>Rossville,SouthShore,StatenIsland</th>\n",
       "      <td>1700.000000</td>\n",
       "    </tr>\n",
       "  </tbody>\n",
       "</table>\n",
       "<p>247 rows × 1 columns</p>\n",
       "</div>"
      ],
      "text/plain": [
       "                                                    average rent for a apartment by place\n",
       "neibhourehood                                                                            \n",
       "SoHo,DowntownManhattan,Manhattan                                             14363.661017\n",
       "Tribeca,DowntownManhattan,Manhattan                                          13039.714286\n",
       "BrooklynHeights,NorthwesternBrooklyn,Brooklyn                                11776.320755\n",
       "DowntownFlushing,Flushing,NortheasternQueens,Qu...                           11571.428571\n",
       "Midtown,MidtownManhattan,Manhattan                                           11511.693182\n",
       "...                                                                                   ...\n",
       "OceanParkway,Midwood,CentralBrooklyn,Brooklyn                                 2100.000000\n",
       "GlenOaksVillageSection2,GlenOaks,NortheasternQu...                            2050.000000\n",
       "SunsetPark,SouthBrooklyn,Brooklyn                                             1925.000000\n",
       "JamaicaHills,SoutheasternQueens,Queens                                        1700.000000\n",
       "Rossville,SouthShore,StatenIsland                                             1700.000000\n",
       "\n",
       "[247 rows x 1 columns]"
      ]
     },
     "execution_count": 108,
     "metadata": {},
     "output_type": "execute_result"
    }
   ],
   "source": [
    "df.groupby('neibhourehood')['rent'].mean().to_frame('average rent for a apartment by place').sort_values(by='average rent for a apartment by place',ascending=False)"
   ]
  },
  {
   "cell_type": "code",
   "execution_count": 109,
   "metadata": {},
   "outputs": [],
   "source": [
    "df.to_csv('preprocessed_data')"
   ]
  },
  {
   "cell_type": "code",
   "execution_count": null,
   "metadata": {},
   "outputs": [],
   "source": []
  }
 ],
 "metadata": {
  "kernelspec": {
   "display_name": "base",
   "language": "python",
   "name": "python3"
  },
  "language_info": {
   "codemirror_mode": {
    "name": "ipython",
    "version": 3
   },
   "file_extension": ".py",
   "mimetype": "text/x-python",
   "name": "python",
   "nbconvert_exporter": "python",
   "pygments_lexer": "ipython3",
   "version": "3.11.7"
  }
 },
 "nbformat": 4,
 "nbformat_minor": 2
}
